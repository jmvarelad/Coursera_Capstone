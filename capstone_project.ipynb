{
 "cells": [
  {
   "cell_type": "code",
   "execution_count": 46,
   "metadata": {},
   "outputs": [],
   "source": [
    "#This notebook will be mainly used for the capstone project\n",
    "import pandas as pd\n",
    "import numpy as np\n",
    "import matplotlib.pyplot as plt\n",
    "\n",
    "from sklearn import preprocessing\n",
    "from sklearn.model_selection import train_test_split\n",
    "from sklearn.neighbors import KNeighborsClassifier\n",
    "from sklearn import metrics\n",
    "\n",
    "#print(\"Hello Capstone Project Course!\")"
   ]
  },
  {
   "cell_type": "code",
   "execution_count": 26,
   "metadata": {},
   "outputs": [
    {
     "data": {
      "text/html": [
       "<div>\n",
       "<style scoped>\n",
       "    .dataframe tbody tr th:only-of-type {\n",
       "        vertical-align: middle;\n",
       "    }\n",
       "\n",
       "    .dataframe tbody tr th {\n",
       "        vertical-align: top;\n",
       "    }\n",
       "\n",
       "    .dataframe thead th {\n",
       "        text-align: right;\n",
       "    }\n",
       "</style>\n",
       "<table border=\"1\" class=\"dataframe\">\n",
       "  <thead>\n",
       "    <tr style=\"text-align: right;\">\n",
       "      <th></th>\n",
       "      <th>INCDATE</th>\n",
       "      <th>INCDTTM</th>\n",
       "      <th>JUNCTIONTYPE</th>\n",
       "      <th>SDOT_COLCODE</th>\n",
       "      <th>SDOT_COLDESC</th>\n",
       "      <th>WEATHER</th>\n",
       "      <th>ROADCOND</th>\n",
       "      <th>LIGHTCOND</th>\n",
       "      <th>ST_COLCODE</th>\n",
       "      <th>ST_COLDESC</th>\n",
       "      <th>SEVERITYCODE</th>\n",
       "    </tr>\n",
       "  </thead>\n",
       "  <tbody>\n",
       "    <tr>\n",
       "      <th>0</th>\n",
       "      <td>03/02/2018 1:00</td>\n",
       "      <td>2/3/2018 12:06:00 PM</td>\n",
       "      <td>No information</td>\n",
       "      <td>0</td>\n",
       "      <td>NOT ENOUGH INFORMATION / NOT APPLICABLE</td>\n",
       "      <td>Raining</td>\n",
       "      <td>Wet</td>\n",
       "      <td>Daylight</td>\n",
       "      <td>10</td>\n",
       "      <td>Entering at angle</td>\n",
       "      <td>1</td>\n",
       "    </tr>\n",
       "    <tr>\n",
       "      <th>1</th>\n",
       "      <td>19/12/2017 1:00</td>\n",
       "      <td>12/19/2017 7:48:00 AM</td>\n",
       "      <td>At Intersection (intersection related)</td>\n",
       "      <td>11</td>\n",
       "      <td>MOTOR VEHICLE STRUCK MOTOR VEHICLE FRONT END A...</td>\n",
       "      <td>Raining</td>\n",
       "      <td>Wet</td>\n",
       "      <td>Daylight</td>\n",
       "      <td>10</td>\n",
       "      <td>Entering at angle</td>\n",
       "      <td>1</td>\n",
       "    </tr>\n",
       "    <tr>\n",
       "      <th>2</th>\n",
       "      <td>05/02/2018 1:00</td>\n",
       "      <td>2/5/2018 8:58:00 PM</td>\n",
       "      <td>Mid-Block (not related to intersection)</td>\n",
       "      <td>11</td>\n",
       "      <td>MOTOR VEHICLE STRUCK MOTOR VEHICLE FRONT END A...</td>\n",
       "      <td>Raining</td>\n",
       "      <td>Wet</td>\n",
       "      <td>Dark - Street Lights On</td>\n",
       "      <td>25</td>\n",
       "      <td>From opposite direction - one stopped - head-on</td>\n",
       "      <td>1</td>\n",
       "    </tr>\n",
       "    <tr>\n",
       "      <th>3</th>\n",
       "      <td>16/12/2017 1:00</td>\n",
       "      <td>12/16/2017 8:20:00 PM</td>\n",
       "      <td>Mid-Block (not related to intersection)</td>\n",
       "      <td>14</td>\n",
       "      <td>MOTOR VEHICLE STRUCK MOTOR VEHICLE REAR END</td>\n",
       "      <td>Raining</td>\n",
       "      <td>Wet</td>\n",
       "      <td>Dark - Street Lights On</td>\n",
       "      <td>32</td>\n",
       "      <td>One parked--one moving</td>\n",
       "      <td>1</td>\n",
       "    </tr>\n",
       "    <tr>\n",
       "      <th>4</th>\n",
       "      <td>08/01/2018 1:00</td>\n",
       "      <td>1/8/2018 6:50:00 AM</td>\n",
       "      <td>Driveway Junction</td>\n",
       "      <td>11</td>\n",
       "      <td>MOTOR VEHICLE STRUCK MOTOR VEHICLE FRONT END A...</td>\n",
       "      <td>Raining</td>\n",
       "      <td>Wet</td>\n",
       "      <td>Dark - Street Lights On</td>\n",
       "      <td>10</td>\n",
       "      <td>Entering at angle</td>\n",
       "      <td>2</td>\n",
       "    </tr>\n",
       "  </tbody>\n",
       "</table>\n",
       "</div>"
      ],
      "text/plain": [
       "           INCDATE                INCDTTM  \\\n",
       "0  03/02/2018 1:00   2/3/2018 12:06:00 PM   \n",
       "1  19/12/2017 1:00  12/19/2017 7:48:00 AM   \n",
       "2  05/02/2018 1:00    2/5/2018 8:58:00 PM   \n",
       "3  16/12/2017 1:00  12/16/2017 8:20:00 PM   \n",
       "4  08/01/2018 1:00    1/8/2018 6:50:00 AM   \n",
       "\n",
       "                              JUNCTIONTYPE  SDOT_COLCODE  \\\n",
       "0                           No information             0   \n",
       "1   At Intersection (intersection related)            11   \n",
       "2  Mid-Block (not related to intersection)            11   \n",
       "3  Mid-Block (not related to intersection)            14   \n",
       "4                        Driveway Junction            11   \n",
       "\n",
       "                                        SDOT_COLDESC  WEATHER ROADCOND  \\\n",
       "0            NOT ENOUGH INFORMATION / NOT APPLICABLE  Raining      Wet   \n",
       "1  MOTOR VEHICLE STRUCK MOTOR VEHICLE FRONT END A...  Raining      Wet   \n",
       "2  MOTOR VEHICLE STRUCK MOTOR VEHICLE FRONT END A...  Raining      Wet   \n",
       "3        MOTOR VEHICLE STRUCK MOTOR VEHICLE REAR END  Raining      Wet   \n",
       "4  MOTOR VEHICLE STRUCK MOTOR VEHICLE FRONT END A...  Raining      Wet   \n",
       "\n",
       "                 LIGHTCOND  ST_COLCODE  \\\n",
       "0                 Daylight          10   \n",
       "1                 Daylight          10   \n",
       "2  Dark - Street Lights On          25   \n",
       "3  Dark - Street Lights On          32   \n",
       "4  Dark - Street Lights On          10   \n",
       "\n",
       "                                        ST_COLDESC  SEVERITYCODE  \n",
       "0                                Entering at angle             1  \n",
       "1                                Entering at angle             1  \n",
       "2  From opposite direction - one stopped - head-on             1  \n",
       "3                           One parked--one moving             1  \n",
       "4                                Entering at angle             2  "
      ]
     },
     "execution_count": 26,
     "metadata": {},
     "output_type": "execute_result"
    }
   ],
   "source": [
    "#Download the Data Collisions file, already reduced (the original file was very large)\n",
    "df = pd.read_csv(\"Data-Collisions-red02.csv\")\n",
    "df.head()"
   ]
  },
  {
   "cell_type": "code",
   "execution_count": 36,
   "metadata": {},
   "outputs": [
    {
     "data": {
      "text/plain": [
       "array([['Raining', 'Wet', 'Daylight'],\n",
       "       ['Raining', 'Wet', 'Daylight'],\n",
       "       ['Raining', 'Wet', 'Dark - Street Lights On'],\n",
       "       ['Raining', 'Wet', 'Dark - Street Lights On'],\n",
       "       ['Raining', 'Wet', 'Dark - Street Lights On']], dtype=object)"
      ]
     },
     "execution_count": 36,
     "metadata": {},
     "output_type": "execute_result"
    }
   ],
   "source": [
    "#Obtain the Features\n",
    "X = df[['WEATHER', 'ROADCOND', 'LIGHTCOND']].values\n",
    "X[0:5]"
   ]
  },
  {
   "cell_type": "code",
   "execution_count": 37,
   "metadata": {},
   "outputs": [
    {
     "name": "stderr",
     "output_type": "stream",
     "text": [
      "/home/jupyterlab/conda/envs/python/lib/python3.6/site-packages/sklearn/utils/validation.py:595: DataConversionWarning: Data with input dtype object was converted to float64 by StandardScaler.\n",
      "  warnings.warn(msg, DataConversionWarning)\n"
     ]
    },
    {
     "data": {
      "text/plain": [
       "array([[ 1.64418758,  1.60017036,  0.59753236],\n",
       "       [ 1.64418758,  1.60017036,  0.59753236],\n",
       "       [ 1.64418758,  1.60017036, -1.50087669],\n",
       "       [ 1.64418758,  1.60017036, -1.50087669],\n",
       "       [ 1.64418758,  1.60017036, -1.50087669]])"
      ]
     },
     "execution_count": 37,
     "metadata": {},
     "output_type": "execute_result"
    }
   ],
   "source": [
    "#Convert categorical variables into dummy/indicator variables\n",
    "le_weather = preprocessing.LabelEncoder()\n",
    "le_weather.fit(['Clear','Fog/Smog/Smoke','Overcast','Raining','Snowing'])\n",
    "X[:,0] = le_weather.transform(X[:,0]) \n",
    "\n",
    "le_roadcond = preprocessing.LabelEncoder()\n",
    "le_roadcond.fit(['Dry', 'Ice', 'Oil', 'Sand/Mud/Dirt', 'Snow/Slush', 'Standing Water', 'Wet'])\n",
    "X[:,1] = le_roadcond.transform(X[:,1])\n",
    "\n",
    "le_lightcond = preprocessing.LabelEncoder()\n",
    "le_lightcond.fit(['Dark - No Street Lights', 'Dark - Street Lights Off','Dark - Street Lights On','Dark - Unknown Lighting','Dawn','Daylight','Dusk'])\n",
    "X[:,2] = le_lightcond.transform(X[:,2])\n",
    "\n",
    "X = preprocessing.StandardScaler().fit(X).transform(X.astype(float))\n",
    "X[0:5]"
   ]
  },
  {
   "cell_type": "code",
   "execution_count": 43,
   "metadata": {},
   "outputs": [
    {
     "data": {
      "text/plain": [
       "array([1, 1, 1, 1, 2])"
      ]
     },
     "execution_count": 43,
     "metadata": {},
     "output_type": "execute_result"
    }
   ],
   "source": [
    "#Obtain the labels\n",
    "y = df[\"SEVERITYCODE\"].values\n",
    "y[0:5]"
   ]
  },
  {
   "cell_type": "code",
   "execution_count": 45,
   "metadata": {},
   "outputs": [
    {
     "name": "stdout",
     "output_type": "stream",
     "text": [
      "Train set: (13580, 3) (13580,)\n",
      "Test set: (3396, 3) (3396,)\n"
     ]
    }
   ],
   "source": [
    "X_train, X_test, y_train, y_test = train_test_split( X, y, test_size=0.2, random_state=4)\n",
    "#print ('Train set:', X_train.shape,  y_train.shape)\n",
    "#print ('Test set:', X_test.shape,  y_test.shape)"
   ]
  },
  {
   "cell_type": "code",
   "execution_count": null,
   "metadata": {},
   "outputs": [],
   "source": []
  },
  {
   "cell_type": "code",
   "execution_count": null,
   "metadata": {},
   "outputs": [],
   "source": []
  },
  {
   "cell_type": "code",
   "execution_count": null,
   "metadata": {},
   "outputs": [],
   "source": []
  },
  {
   "cell_type": "code",
   "execution_count": null,
   "metadata": {},
   "outputs": [],
   "source": []
  },
  {
   "cell_type": "code",
   "execution_count": null,
   "metadata": {},
   "outputs": [],
   "source": []
  },
  {
   "cell_type": "code",
   "execution_count": null,
   "metadata": {},
   "outputs": [],
   "source": []
  },
  {
   "cell_type": "code",
   "execution_count": null,
   "metadata": {},
   "outputs": [],
   "source": [
    "df[['WEATHER_NUM']]=df[['WEATHER']]\n",
    "df[['ROADCOND_NUM']]=df[['ROADCOND']]\n",
    "df[['LIGHTCOND_NUM']]=df[['LIGHTCOND']]\n",
    "\n",
    "for n in df.index:\n",
    "    if df.loc[n,'WEATHER_NUM']=='Clear':\n",
    "        df.loc[n,'WEATHER_NUM']=1\n",
    "    elif df.loc[n,'WEATHER_NUM']=='Fog/Smog/Smoke':\n",
    "        df.loc[n,'WEATHER_NUM']=2\n",
    "    elif df.loc[n,'WEATHER_NUM']=='Overcast':\n",
    "        df.loc[n,'WEATHER_NUM']=3\n",
    "    elif df.loc[n,'WEATHER_NUM']=='Raining':\n",
    "        df.loc[n,'WEATHER_NUM']=4\n",
    "    elif df.loc[n,'WEATHER_NUM']=='Snowing':\n",
    "        df.loc[n,'WEATHER_NUM']=5\n",
    "        \n",
    "for m in df.index:\n",
    "    if df.loc[m,'ROADCOND_NUM']=='Dry':\n",
    "        df.loc[m,'ROADCOND_NUM']=1\n",
    "    elif df.loc[m,'ROADCOND_NUM']=='Ice':\n",
    "        df.loc[m,'ROADCOND_NUM']=2\n",
    "    elif df.loc[m,'ROADCOND_NUM']=='Oil':\n",
    "        df.loc[m,'ROADCOND_NUM']=3\n",
    "    elif df.loc[m,'ROADCOND_NUM']=='Sand/Mud/Dirt':\n",
    "        df.loc[m,'ROADCOND_NUM']=4\n",
    "    elif df.loc[m,'ROADCOND_NUM']=='Snow/Slush':\n",
    "        df.loc[m,'ROADCOND_NUM']=5\n",
    "    elif df.loc[m,'ROADCOND_NUM']=='Standing Water':\n",
    "        df.loc[m,'ROADCOND_NUM']=6\n",
    "    elif df.loc[m,'ROADCOND_NUM']=='Wet':\n",
    "        df.loc[m,'ROADCOND_NUM']=7\n",
    "        \n",
    "for x in df.index:\n",
    "    if df.loc[x,'LIGHTCOND_NUM']=='Dark - No Street Lights':\n",
    "        df.loc[x,'LIGHTCOND_NUM']=1\n",
    "    elif df.loc[x,'LIGHTCOND_NUM']=='Dark - Street Lights Off':\n",
    "        df.loc[x,'LIGHTCOND_NUM']=2\n",
    "    elif df.loc[x,'LIGHTCOND_NUM']=='Dark - Street Lights On':\n",
    "        df.loc[x,'LIGHTCOND_NUM']=3\n",
    "    elif df.loc[x,'LIGHTCOND_NUM']=='Dark - Unknown Lighting':\n",
    "        df.loc[x,'LIGHTCOND_NUM']=4\n",
    "    elif df.loc[x,'LIGHTCOND_NUM']=='Dawn':\n",
    "        df.loc[x,'LIGHTCOND_NUM']=5\n",
    "    elif df.loc[x,'LIGHTCOND_NUM']=='Daylight':\n",
    "        df.loc[x,'LIGHTCOND_NUM']=6\n",
    "    elif df.loc[x,'LIGHTCOND_NUM']=='Dusk':\n",
    "        df.loc[x,'LIGHTCOND_NUM']=7\n",
    "\n",
    "df.head()"
   ]
  }
 ],
 "metadata": {
  "kernelspec": {
   "display_name": "Python",
   "language": "python",
   "name": "conda-env-python-py"
  },
  "language_info": {
   "codemirror_mode": {
    "name": "ipython",
    "version": 3
   },
   "file_extension": ".py",
   "mimetype": "text/x-python",
   "name": "python",
   "nbconvert_exporter": "python",
   "pygments_lexer": "ipython3",
   "version": "3.6.11"
  }
 },
 "nbformat": 4,
 "nbformat_minor": 4
}
