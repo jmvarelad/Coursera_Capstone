{
 "cells": [
  {
   "cell_type": "markdown",
   "metadata": {},
   "source": [
    "__INTRODUCTION: BUSINESS PROBLEM__"
   ]
  },
  {
   "cell_type": "markdown",
   "metadata": {},
   "source": [
    "Everyday we can find trafic accidentes in every city of the world. This accidents are caused by several reasons: reckless behaviour, lapse of concentration, bad weather conditions, vehicles in bad conditions... Due to the negative consequences\n",
    "that these accidents have, it is vital to find the reasons for them, in order to predict what accidents could happen under what circumstances, so they can be avoided.\n",
    "\n",
    "This could be beneficial for a lot of people: drivers, government, insurance companies, vehicle manufacturers... Every one of these stakeholders could use some of this research for their own benefit.\n",
    "\n",
    "In this project I will study the correlation between some of the circumstances that led to a car accident and the car accidents themselves, elaborating a model who predict the severity of an accident based on these variables."
   ]
  },
  {
   "cell_type": "markdown",
   "metadata": {},
   "source": [
    "__DATA__"
   ]
  },
  {
   "cell_type": "markdown",
   "metadata": {},
   "source": [
    "For this project I will use the car accident data provided in this course. I will use several variables, like the weather conditions, road conditions or light conditions, to find the severity of the accidents. With this in mind, I will build a prediction model, in order to evaluate the severity of future accidents, so the drivers can evaluate if it is necessary to change their driving style (for example, slow down if it is raining or have special precaution in front of particular traffic circumstances)."
   ]
  }
 ],
 "metadata": {
  "kernelspec": {
   "display_name": "Python",
   "language": "python",
   "name": "conda-env-python-py"
  },
  "language_info": {
   "codemirror_mode": {
    "name": "ipython",
    "version": 3
   },
   "file_extension": ".py",
   "mimetype": "text/x-python",
   "name": "python",
   "nbconvert_exporter": "python",
   "pygments_lexer": "ipython3",
   "version": "3.6.11"
  }
 },
 "nbformat": 4,
 "nbformat_minor": 4
}
